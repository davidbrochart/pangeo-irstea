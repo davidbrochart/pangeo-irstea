{
 "cells": [
  {
   "cell_type": "code",
   "execution_count": null,
   "metadata": {},
   "outputs": [],
   "source": [
    "import xarray as xr\n",
    "import gcsfs\n",
    "import pickle\n",
    "\n",
    "%matplotlib inline"
   ]
  },
  {
   "cell_type": "code",
   "execution_count": null,
   "metadata": {},
   "outputs": [],
   "source": [
    "das = {}\n",
    "das['maroni'] = xr.open_zarr('../data/maroni_mask')\n",
    "das['oyapock'] = xr.open_zarr('../data/oyapock_mask')"
   ]
  },
  {
   "cell_type": "code",
   "execution_count": null,
   "metadata": {},
   "outputs": [],
   "source": [
    "def get_ws_p(pix_deg, da_masks, da_p, tolerance=None):\n",
    "    if tolerance is None:\n",
    "        s = str(pix_deg)\n",
    "        tolerance = 10 ** (-(len(s) - s.find('.')))\n",
    "    with open(f'../data/pix_deg_{pix_deg}.pkl', 'rb') as f:\n",
    "        da_area = pickle.load(f)\n",
    "    da_masks = da_area.reindex_like(da_masks, method='nearest', tolerance=tolerance) * da_masks\n",
    "    da_masks = da_masks / da_masks.sum(['lat', 'lon'])\n",
    "    p = (da_p.reindex_like(da_masks, method='nearest', tolerance=tolerance).clip(0) * da_masks).sum(['lat', 'lon'])\n",
    "    return p"
   ]
  },
  {
   "cell_type": "code",
   "execution_count": null,
   "metadata": {},
   "outputs": [],
   "source": [
    "ds_p = xr.open_zarr(gcsfs.GCSMap('pangeo-data/gpm_imerg_early'))\n",
    "ds_p"
   ]
  },
  {
   "cell_type": "code",
   "execution_count": null,
   "metadata": {},
   "outputs": [],
   "source": [
    "da = xr.concat(list(das.values()), 'label')\n",
    "da_masks = da.assign_coords(label=list(das))"
   ]
  },
  {
   "cell_type": "code",
   "execution_count": null,
   "metadata": {},
   "outputs": [],
   "source": [
    "from_time, to_time = '2014-03-12', '2019-04-01'\n",
    "ds_p = ds_p.sel(time=slice(from_time, to_time))\n",
    "da_p = ds_p['precipitationCal']\n",
    "p = get_ws_p(0.1, da_masks, da_p).chunk({'time': -1, 'label': 1})\n",
    "p"
   ]
  },
  {
   "cell_type": "code",
   "execution_count": null,
   "metadata": {},
   "outputs": [],
   "source": [
    "p = p['mask'].compute()"
   ]
  }
 ],
 "metadata": {
  "kernelspec": {
   "display_name": "Python 3",
   "language": "python",
   "name": "python3"
  },
  "language_info": {
   "codemirror_mode": {
    "name": "ipython",
    "version": 3
   },
   "file_extension": ".py",
   "mimetype": "text/x-python",
   "name": "python",
   "nbconvert_exporter": "python",
   "pygments_lexer": "ipython3",
   "version": "3.7.3"
  }
 },
 "nbformat": 4,
 "nbformat_minor": 4
}
